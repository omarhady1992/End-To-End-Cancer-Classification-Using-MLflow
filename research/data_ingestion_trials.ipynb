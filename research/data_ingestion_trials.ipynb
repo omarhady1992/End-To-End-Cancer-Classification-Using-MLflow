{
 "cells": [
  {
   "cell_type": "code",
   "execution_count": null,
   "metadata": {},
   "outputs": [
    {
     "name": "stderr",
     "output_type": "stream",
     "text": [
      "Downloading...\n",
      "From (original): https://drive.google.com/uc?/export=download&id=1z0mreUtRmR-P-magILsDR3T7M6IkGXtY\n",
      "From (redirected): https://drive.google.com/uc?%2Fexport=download&id=1z0mreUtRmR-P-magILsDR3T7M6IkGXtY&confirm=t&uuid=e0226e36-7410-4c46-8027-11cd731cb57f\n",
      "To: c:\\Users\\Omar Hady\\Data Projects\\Machine Learning\\End-To-End Cancer Evaluation\\End-To-End-Cancer-Classification-Using-MLflow\\research\\Chest-CT-Scan-data.zip\n",
      "100%|██████████| 49.0M/49.0M [00:16<00:00, 3.04MB/s]\n"
     ]
    },
    {
     "data": {
      "text/plain": [
       "'Chest-CT-Scan-data.zip'"
      ]
     },
     "execution_count": 3,
     "metadata": {},
     "output_type": "execute_result"
    }
   ],
   "source": [
    "#trying to import data from various sources\n",
    "#from google drive\n",
    "import gdown\n",
    "drive=\"https://drive.google.com/file/d/1z0mreUtRmR-P-magILsDR3T7M6IkGXtY/view?usp=sharing\" #file url\n",
    "file_id = drive.split('/')[-2] #The id of the file\n",
    "downloading_prefix = 'https://drive.google.com/uc?/export=download&id='\n",
    "\n",
    "download_link = downloading_prefix + file_id\n",
    "gdown.download(download_link)"
   ]
  },
  {
   "cell_type": "code",
   "execution_count": 11,
   "metadata": {},
   "outputs": [
    {
     "data": {
      "text/plain": [
       "'c:\\\\Users\\\\Omar Hady\\\\Data Projects\\\\Machine Learning\\\\End-To-End Cancer Evaluation\\\\End-To-End-Cancer-Classification-Using-MLflow\\\\research'"
      ]
     },
     "execution_count": 11,
     "metadata": {},
     "output_type": "execute_result"
    }
   ],
   "source": [
    "import os\n",
    "cwd = os.getcwd()\n",
    "cwd"
   ]
  },
  {
   "cell_type": "code",
   "execution_count": 14,
   "metadata": {},
   "outputs": [
    {
     "data": {
      "text/plain": [
       "{'username': 'omarhady', 'key': '8b707f9c6862f8f7fd3c412f2aa7420d'}"
      ]
     },
     "execution_count": 14,
     "metadata": {},
     "output_type": "execute_result"
    }
   ],
   "source": [
    "#Download file from kaggle\n",
    "import os\n",
    "import json\n",
    "\n",
    "with open('c:/Users/Omar Hady/Data Projects/Machine Learning/End-To-End Cancer Evaluation/End-To-End-Cancer-Classification-Using-MLflow/research/kaggle.json', 'r') as f:\n",
    "    cred_dict = json.load(f)\n",
    "cred_dict\n",
    "\n"
   ]
  },
  {
   "cell_type": "code",
   "execution_count": null,
   "metadata": {},
   "outputs": [
    {
     "name": "stdout",
     "output_type": "stream",
     "text": [
      "Dataset URL: https://www.kaggle.com/datasets/mohamedhanyyy/chest-ctscan-images\n"
     ]
    }
   ],
   "source": [
    "#Import from Kaggle\n",
    "\n",
    "from kaggle.api.kaggle_api_extended import KaggleApi\n",
    "os.environ['KAGGLE_USERNAME'] = cred_dict['username']\n",
    "os.environ['KAGGLE_KEY'] = cred_dict['key']\n",
    "\n",
    "api = KaggleApi()\n",
    "api.authenticate()\n",
    "\n",
    "dataset = \"mohamedhanyyy/chest-ctscan-images\"\n",
    "path = 'datasets/mohamedhanyyy/chest-ctscan-images'\n",
    "\n",
    "\n",
    "api.dataset_download_files(dataset, path, unzip=True)\n",
    "\n"
   ]
  },
  {
   "cell_type": "code",
   "execution_count": null,
   "metadata": {},
   "outputs": [],
   "source": []
  }
 ],
 "metadata": {
  "kernelspec": {
   "display_name": "tf",
   "language": "python",
   "name": "python3"
  },
  "language_info": {
   "codemirror_mode": {
    "name": "ipython",
    "version": 3
   },
   "file_extension": ".py",
   "mimetype": "text/x-python",
   "name": "python",
   "nbconvert_exporter": "python",
   "pygments_lexer": "ipython3",
   "version": "3.10.13"
  }
 },
 "nbformat": 4,
 "nbformat_minor": 2
}
